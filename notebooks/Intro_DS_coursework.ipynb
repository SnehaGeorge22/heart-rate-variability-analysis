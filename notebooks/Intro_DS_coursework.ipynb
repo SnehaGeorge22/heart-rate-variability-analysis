{
 "cells": [
  {
   "cell_type": "code",
   "execution_count": 1,
   "metadata": {},
   "outputs": [],
   "source": [
    "import pandas as pd\n",
    "import numpy as np\n",
    "import matplotlib.pyplot as plt\n",
    "import os\n",
    "import sys\n",
    "import regex  as r\n"
   ]
  },
  {
   "cell_type": "code",
   "execution_count": 12,
   "metadata": {},
   "outputs": [
    {
     "name": "stdout",
     "output_type": "stream",
     "text": [
      "File path : D:\\Data Science\\Intro to Data Science\\Coursework\\dataset\\\n",
      "File name is D:\\Data Science\\Intro to Data Science\\Coursework\\dataset\\o01.csv\n",
      "File name is D:\\Data Science\\Intro to Data Science\\Coursework\\dataset\\o02.csv\n",
      "File name is D:\\Data Science\\Intro to Data Science\\Coursework\\dataset\\o03.csv\n",
      "File name is D:\\Data Science\\Intro to Data Science\\Coursework\\dataset\\o04.csv\n",
      "File name is D:\\Data Science\\Intro to Data Science\\Coursework\\dataset\\o05.csv\n",
      "File name is D:\\Data Science\\Intro to Data Science\\Coursework\\dataset\\o06.csv\n",
      "File name is D:\\Data Science\\Intro to Data Science\\Coursework\\dataset\\o07.csv\n",
      "File name is D:\\Data Science\\Intro to Data Science\\Coursework\\dataset\\o08.csv\n",
      "File name is D:\\Data Science\\Intro to Data Science\\Coursework\\dataset\\o09.csv\n",
      "File name is D:\\Data Science\\Intro to Data Science\\Coursework\\dataset\\o10.csv\n",
      "File name is D:\\Data Science\\Intro to Data Science\\Coursework\\dataset\\y01.csv\n",
      "File name is D:\\Data Science\\Intro to Data Science\\Coursework\\dataset\\y02.csv\n",
      "File name is D:\\Data Science\\Intro to Data Science\\Coursework\\dataset\\y03.csv\n",
      "File name is D:\\Data Science\\Intro to Data Science\\Coursework\\dataset\\y04.csv\n",
      "File name is D:\\Data Science\\Intro to Data Science\\Coursework\\dataset\\y05.csv\n",
      "File name is D:\\Data Science\\Intro to Data Science\\Coursework\\dataset\\y06.csv\n",
      "File name is D:\\Data Science\\Intro to Data Science\\Coursework\\dataset\\y07.csv\n",
      "File name is D:\\Data Science\\Intro to Data Science\\Coursework\\dataset\\y08.csv\n",
      "File name is D:\\Data Science\\Intro to Data Science\\Coursework\\dataset\\y09.csv\n",
      "File name is D:\\Data Science\\Intro to Data Science\\Coursework\\dataset\\y10.csv\n"
     ]
    }
   ],
   "source": [
    "file_path = f\"D:\\\\Data Science\\\\Intro to Data Science\\\\Coursework\\\\dataset\\\\\"\n",
    "print(f\"File path : {file_path}\")\n",
    "if os.path.exists(file_path) and os.listdir(file_path):\n",
    "    file_list_in = os.listdir(file_path)\n",
    "    for file in os.listdir(file_path):\n",
    "        file_name = os.path.join(file_path,file)\n",
    "        if os.path.isfile(file_name) and file_name.endswith('.csv'):\n",
    "            #calculate_HRV_metrics(file_name)\n",
    "            print(f\"File name is {file_name}\")\n",
    "        #else:\n",
    "        #    print(f\"File name is {file_name}\")\n",
    "        #    print(\"Please check the file format\")\n",
    "else:\n",
    "    print(\"File doesnt exist in the given path. Please check the path\")\n"
   ]
  },
  {
   "cell_type": "code",
   "execution_count": 6,
   "metadata": {},
   "outputs": [],
   "source": [
    "file_in=\"D:\\\\Data Science\\\\Intro to Data Science\\\\Coursework\\\\dataset\\\\y01.csv\"\n",
    "hrv_results = []\n",
    "results = {}\n",
    "\n",
    "ecg_data = pd.read_csv(file_in)\n",
    "N_type = ecg_data[ecg_data['type']=='N']\n",
    "N_type_copy = N_type.copy()\n",
    "N_type_copy['time_next'] = N_type['time'].shift(-1)\n",
    "N_type_copy['type_next'] = N_type['type'].shift(-1)\n",
    "N_type_copy['rr'] = N_type_copy['time_next']-N_type_copy['time']\n",
    "N_type_copy['rr_type'] = N_type_copy['type']+N_type_copy['type_next']\n",
    "N_type_copy['rr_next'] = N_type_copy['rr'].shift(-1)\n",
    "N_type_copy['diff'] = N_type_copy['rr_next']-N_type_copy['rr']\n",
    "N_type_copy['diff_squared'] = N_type_copy['diff']**2\n",
    "N_type_copy['rr_next_type'] =N_type_copy['rr_type'].shift(-1)"
   ]
  },
  {
   "cell_type": "code",
   "execution_count": 5,
   "metadata": {},
   "outputs": [
    {
     "data": {
      "text/html": [
       "<div>\n",
       "<style scoped>\n",
       "    .dataframe tbody tr th:only-of-type {\n",
       "        vertical-align: middle;\n",
       "    }\n",
       "\n",
       "    .dataframe tbody tr th {\n",
       "        vertical-align: top;\n",
       "    }\n",
       "\n",
       "    .dataframe thead th {\n",
       "        text-align: right;\n",
       "    }\n",
       "</style>\n",
       "<table border=\"1\" class=\"dataframe\">\n",
       "  <thead>\n",
       "    <tr style=\"text-align: right;\">\n",
       "      <th></th>\n",
       "      <th>time</th>\n",
       "      <th>type</th>\n",
       "    </tr>\n",
       "  </thead>\n",
       "  <tbody>\n",
       "    <tr>\n",
       "      <th>0</th>\n",
       "      <td>208</td>\n",
       "      <td>N</td>\n",
       "    </tr>\n",
       "    <tr>\n",
       "      <th>1</th>\n",
       "      <td>944</td>\n",
       "      <td>N</td>\n",
       "    </tr>\n",
       "    <tr>\n",
       "      <th>2</th>\n",
       "      <td>1688</td>\n",
       "      <td>N</td>\n",
       "    </tr>\n",
       "    <tr>\n",
       "      <th>3</th>\n",
       "      <td>2440</td>\n",
       "      <td>N</td>\n",
       "    </tr>\n",
       "    <tr>\n",
       "      <th>4</th>\n",
       "      <td>3196</td>\n",
       "      <td>N</td>\n",
       "    </tr>\n",
       "    <tr>\n",
       "      <th>...</th>\n",
       "      <td>...</td>\n",
       "      <td>...</td>\n",
       "    </tr>\n",
       "    <tr>\n",
       "      <th>8705</th>\n",
       "      <td>7220600</td>\n",
       "      <td>N</td>\n",
       "    </tr>\n",
       "    <tr>\n",
       "      <th>8706</th>\n",
       "      <td>7221864</td>\n",
       "      <td>N</td>\n",
       "    </tr>\n",
       "    <tr>\n",
       "      <th>8707</th>\n",
       "      <td>7222916</td>\n",
       "      <td>N</td>\n",
       "    </tr>\n",
       "    <tr>\n",
       "      <th>8708</th>\n",
       "      <td>7223760</td>\n",
       "      <td>N</td>\n",
       "    </tr>\n",
       "    <tr>\n",
       "      <th>8709</th>\n",
       "      <td>7224712</td>\n",
       "      <td>N</td>\n",
       "    </tr>\n",
       "  </tbody>\n",
       "</table>\n",
       "<p>8708 rows × 2 columns</p>\n",
       "</div>"
      ],
      "text/plain": [
       "         time type\n",
       "0         208    N\n",
       "1         944    N\n",
       "2        1688    N\n",
       "3        2440    N\n",
       "4        3196    N\n",
       "...       ...  ...\n",
       "8705  7220600    N\n",
       "8706  7221864    N\n",
       "8707  7222916    N\n",
       "8708  7223760    N\n",
       "8709  7224712    N\n",
       "\n",
       "[8708 rows x 2 columns]"
      ]
     },
     "execution_count": 5,
     "metadata": {},
     "output_type": "execute_result"
    }
   ],
   "source": [
    "N_type"
   ]
  },
  {
   "cell_type": "code",
   "execution_count": 2,
   "metadata": {},
   "outputs": [
    {
     "name": "stdout",
     "output_type": "stream",
     "text": [
      "{'filename': 'D:\\\\Data Science\\\\Intro to Data Science\\\\Coursework\\\\dataset\\\\y01.csv', 'n': 8708, 'mean_nn': 830, 'mean_bpm': 72.3, 'sdnn': 92.3, 'rmssd': 92.3, 'pnn20': 74.3, 'pnn50': 46.0}\n",
      "[{'filename': 'D:\\\\Data Science\\\\Intro to Data Science\\\\Coursework\\\\dataset\\\\y01.csv', 'n': 8708, 'mean_nn': 830, 'mean_bpm': 72.3, 'sdnn': 92.3, 'rmssd': 92.3, 'pnn20': 74.3, 'pnn50': 46.0}]\n"
     ]
    },
    {
     "name": "stderr",
     "output_type": "stream",
     "text": [
      "C:\\Users\\sneha\\AppData\\Local\\Temp\\ipykernel_38632\\1430587902.py:8: SettingWithCopyWarning: \n",
      "A value is trying to be set on a copy of a slice from a DataFrame.\n",
      "Try using .loc[row_indexer,col_indexer] = value instead\n",
      "\n",
      "See the caveats in the documentation: https://pandas.pydata.org/pandas-docs/stable/user_guide/indexing.html#returning-a-view-versus-a-copy\n",
      "  N_type['time_next'] = N_type['time'].shift(-1)\n",
      "C:\\Users\\sneha\\AppData\\Local\\Temp\\ipykernel_38632\\1430587902.py:9: SettingWithCopyWarning: \n",
      "A value is trying to be set on a copy of a slice from a DataFrame.\n",
      "Try using .loc[row_indexer,col_indexer] = value instead\n",
      "\n",
      "See the caveats in the documentation: https://pandas.pydata.org/pandas-docs/stable/user_guide/indexing.html#returning-a-view-versus-a-copy\n",
      "  N_type['type_next'] = N_type['type'].shift(-1)\n",
      "C:\\Users\\sneha\\AppData\\Local\\Temp\\ipykernel_38632\\1430587902.py:10: SettingWithCopyWarning: \n",
      "A value is trying to be set on a copy of a slice from a DataFrame.\n",
      "Try using .loc[row_indexer,col_indexer] = value instead\n",
      "\n",
      "See the caveats in the documentation: https://pandas.pydata.org/pandas-docs/stable/user_guide/indexing.html#returning-a-view-versus-a-copy\n",
      "  N_type['rr'] = N_type['time_next']-N_type['time']\n",
      "C:\\Users\\sneha\\AppData\\Local\\Temp\\ipykernel_38632\\1430587902.py:11: SettingWithCopyWarning: \n",
      "A value is trying to be set on a copy of a slice from a DataFrame.\n",
      "Try using .loc[row_indexer,col_indexer] = value instead\n",
      "\n",
      "See the caveats in the documentation: https://pandas.pydata.org/pandas-docs/stable/user_guide/indexing.html#returning-a-view-versus-a-copy\n",
      "  N_type['rr_type'] = N_type['type']+N_type['type_next']\n",
      "C:\\Users\\sneha\\AppData\\Local\\Temp\\ipykernel_38632\\1430587902.py:12: SettingWithCopyWarning: \n",
      "A value is trying to be set on a copy of a slice from a DataFrame.\n",
      "Try using .loc[row_indexer,col_indexer] = value instead\n",
      "\n",
      "See the caveats in the documentation: https://pandas.pydata.org/pandas-docs/stable/user_guide/indexing.html#returning-a-view-versus-a-copy\n",
      "  N_type['rr_next'] = N_type['rr'].shift(-1)\n",
      "C:\\Users\\sneha\\AppData\\Local\\Temp\\ipykernel_38632\\1430587902.py:13: SettingWithCopyWarning: \n",
      "A value is trying to be set on a copy of a slice from a DataFrame.\n",
      "Try using .loc[row_indexer,col_indexer] = value instead\n",
      "\n",
      "See the caveats in the documentation: https://pandas.pydata.org/pandas-docs/stable/user_guide/indexing.html#returning-a-view-versus-a-copy\n",
      "  N_type['diff'] = N_type['rr_next']-N_type['rr']\n",
      "C:\\Users\\sneha\\AppData\\Local\\Temp\\ipykernel_38632\\1430587902.py:14: SettingWithCopyWarning: \n",
      "A value is trying to be set on a copy of a slice from a DataFrame.\n",
      "Try using .loc[row_indexer,col_indexer] = value instead\n",
      "\n",
      "See the caveats in the documentation: https://pandas.pydata.org/pandas-docs/stable/user_guide/indexing.html#returning-a-view-versus-a-copy\n",
      "  N_type['diff_squared'] = N_type['diff']**2\n",
      "C:\\Users\\sneha\\AppData\\Local\\Temp\\ipykernel_38632\\1430587902.py:15: SettingWithCopyWarning: \n",
      "A value is trying to be set on a copy of a slice from a DataFrame.\n",
      "Try using .loc[row_indexer,col_indexer] = value instead\n",
      "\n",
      "See the caveats in the documentation: https://pandas.pydata.org/pandas-docs/stable/user_guide/indexing.html#returning-a-view-versus-a-copy\n",
      "  N_type['rr_next_type'] =N_type['rr_type'].shift(-1)\n"
     ]
    },
    {
     "data": {
      "text/html": [
       "<div>\n",
       "<style scoped>\n",
       "    .dataframe tbody tr th:only-of-type {\n",
       "        vertical-align: middle;\n",
       "    }\n",
       "\n",
       "    .dataframe tbody tr th {\n",
       "        vertical-align: top;\n",
       "    }\n",
       "\n",
       "    .dataframe thead th {\n",
       "        text-align: right;\n",
       "    }\n",
       "</style>\n",
       "<table border=\"1\" class=\"dataframe\">\n",
       "  <thead>\n",
       "    <tr style=\"text-align: right;\">\n",
       "      <th></th>\n",
       "      <th>time</th>\n",
       "      <th>type</th>\n",
       "      <th>time_next</th>\n",
       "      <th>type_next</th>\n",
       "      <th>rr</th>\n",
       "      <th>rr_type</th>\n",
       "      <th>rr_next</th>\n",
       "      <th>diff</th>\n",
       "      <th>diff_squared</th>\n",
       "      <th>rr_next_type</th>\n",
       "    </tr>\n",
       "  </thead>\n",
       "  <tbody>\n",
       "    <tr>\n",
       "      <th>0</th>\n",
       "      <td>208</td>\n",
       "      <td>N</td>\n",
       "      <td>944.0</td>\n",
       "      <td>N</td>\n",
       "      <td>736.0</td>\n",
       "      <td>NN</td>\n",
       "      <td>744.0</td>\n",
       "      <td>8.0</td>\n",
       "      <td>64.0</td>\n",
       "      <td>NN</td>\n",
       "    </tr>\n",
       "    <tr>\n",
       "      <th>1</th>\n",
       "      <td>944</td>\n",
       "      <td>N</td>\n",
       "      <td>1688.0</td>\n",
       "      <td>N</td>\n",
       "      <td>744.0</td>\n",
       "      <td>NN</td>\n",
       "      <td>752.0</td>\n",
       "      <td>8.0</td>\n",
       "      <td>64.0</td>\n",
       "      <td>NN</td>\n",
       "    </tr>\n",
       "    <tr>\n",
       "      <th>2</th>\n",
       "      <td>1688</td>\n",
       "      <td>N</td>\n",
       "      <td>2440.0</td>\n",
       "      <td>N</td>\n",
       "      <td>752.0</td>\n",
       "      <td>NN</td>\n",
       "      <td>756.0</td>\n",
       "      <td>4.0</td>\n",
       "      <td>16.0</td>\n",
       "      <td>NN</td>\n",
       "    </tr>\n",
       "    <tr>\n",
       "      <th>3</th>\n",
       "      <td>2440</td>\n",
       "      <td>N</td>\n",
       "      <td>3196.0</td>\n",
       "      <td>N</td>\n",
       "      <td>756.0</td>\n",
       "      <td>NN</td>\n",
       "      <td>720.0</td>\n",
       "      <td>-36.0</td>\n",
       "      <td>1296.0</td>\n",
       "      <td>NN</td>\n",
       "    </tr>\n",
       "    <tr>\n",
       "      <th>4</th>\n",
       "      <td>3196</td>\n",
       "      <td>N</td>\n",
       "      <td>3916.0</td>\n",
       "      <td>N</td>\n",
       "      <td>720.0</td>\n",
       "      <td>NN</td>\n",
       "      <td>756.0</td>\n",
       "      <td>36.0</td>\n",
       "      <td>1296.0</td>\n",
       "      <td>NN</td>\n",
       "    </tr>\n",
       "  </tbody>\n",
       "</table>\n",
       "</div>"
      ],
      "text/plain": [
       "   time type  time_next type_next     rr rr_type  rr_next  diff  diff_squared  \\\n",
       "0   208    N      944.0         N  736.0      NN    744.0   8.0          64.0   \n",
       "1   944    N     1688.0         N  744.0      NN    752.0   8.0          64.0   \n",
       "2  1688    N     2440.0         N  752.0      NN    756.0   4.0          16.0   \n",
       "3  2440    N     3196.0         N  756.0      NN    720.0 -36.0        1296.0   \n",
       "4  3196    N     3916.0         N  720.0      NN    756.0  36.0        1296.0   \n",
       "\n",
       "  rr_next_type  \n",
       "0           NN  \n",
       "1           NN  \n",
       "2           NN  \n",
       "3           NN  \n",
       "4           NN  "
      ]
     },
     "execution_count": 2,
     "metadata": {},
     "output_type": "execute_result"
    }
   ],
   "source": [
    "file_in=\"D:\\\\Data Science\\\\Intro to Data Science\\\\Coursework\\\\dataset\\\\y01.csv\"\n",
    "hrv_results = []\n",
    "results = {}\n",
    "\n",
    "ecg_data = pd.read_csv(file_in)\n",
    "N_type = ecg_data[ecg_data['type']=='N']\n",
    "\n",
    "N_type['time_next'] = N_type['time'].shift(-1)\n",
    "N_type['type_next'] = N_type['type'].shift(-1)\n",
    "N_type['rr'] = N_type['time_next']-N_type['time']\n",
    "N_type['rr_type'] = N_type['type']+N_type['type_next']\n",
    "N_type['rr_next'] = N_type['rr'].shift(-1)\n",
    "N_type['diff'] = N_type['rr_next']-N_type['rr']\n",
    "N_type['diff_squared'] = N_type['diff']**2\n",
    "N_type['rr_next_type'] =N_type['rr_type'].shift(-1)\n",
    "\n",
    "mean_nn = int(np.round(N_type['rr'].mean(),decimals=0))\n",
    "mean_bpm = np.round((1000/mean_nn)*60,decimals=1)\n",
    "sdnn = np.round(np.sqrt(N_type['diff_squared'].sum()/(N_type.shape[0]-1)),decimals=1)\n",
    "rmssd = np.round(np.sqrt(N_type['diff_squared'].mean()),decimals=1)\n",
    "pnn50 = np.round(100 * sum(np.abs(N_type['diff']) > 50) / N_type.shape[0]-1,decimals=1)\n",
    "pnn20 = np.round(100 * sum(np.abs(N_type['diff']) > 20) / N_type.shape[0]-1,decimals=1)\n",
    "results['filename'] = file_in\n",
    "results['n'] = N_type.shape[0]\n",
    "results['mean_nn'] = mean_nn\n",
    "results['mean_bpm'] = mean_bpm\n",
    "results['sdnn'] = sdnn\n",
    "results['rmssd'] = rmssd\n",
    "results['pnn20'] = pnn20\n",
    "results['pnn50'] = pnn50\n",
    "hrv_results.append(results)\n",
    "#print(N_type)\n",
    "#print(ecg_data.shape)\n",
    "#print(ecg_data)\n",
    "print(results)\n",
    "print(hrv_results)\n",
    "N_type.head(5)"
   ]
  },
  {
   "cell_type": "code",
   "execution_count": 7,
   "metadata": {},
   "outputs": [],
   "source": [
    "df = pd.DataFrame(hrv_results)\n",
    "df.to_csv(\"fantasia.csv\", index=False)"
   ]
  },
  {
   "cell_type": "code",
   "execution_count": 9,
   "metadata": {},
   "outputs": [
    {
     "data": {
      "text/plain": [
       "<matplotlib.collections.PathCollection at 0x256e8a77410>"
      ]
     },
     "execution_count": 9,
     "metadata": {},
     "output_type": "execute_result"
    },
    {
     "data": {
      "image/png": "[encoded data removed]",
      "text/plain": [
       "<Figure size 640x480 with 1 Axes>"
      ]
     },
     "metadata": {},
     "output_type": "display_data"
    },
    {
     "ename": "",
     "evalue": "",
     "output_type": "error",
     "traceback": [
      "\u001b[1;31mThe Kernel crashed while executing code in the current cell or a previous cell. \n",
      "\u001b[1;31mPlease review the code in the cell(s) to identify a possible cause of the failure. \n",
      "\u001b[1;31mClick <a href='https://aka.ms/vscodeJupyterKernelCrash'>here</a> for more info. \n",
      "\u001b[1;31mView Jupyter <a href='command:jupyter.viewOutput'>log</a> for further details."
     ]
    }
   ],
   "source": [
    "plt.scatter(x=N_type['rr']/1000,y=N_type['rr_next']/1000)"
   ]
  },
  {
   "cell_type": "code",
   "execution_count": 49,
   "metadata": {},
   "outputs": [
    {
     "data": {
      "text/plain": [
       "15.542765743724175"
      ]
     },
     "execution_count": 49,
     "metadata": {},
     "output_type": "execute_result"
    }
   ],
   "source": [
    "np.sqrt(N_type['diff_squared'].sum()/(N_type.shape[0]-1))\n"
   ]
  },
  {
   "cell_type": "code",
   "execution_count": 5,
   "metadata": {},
   "outputs": [],
   "source": [
    "def calculate_HRV_metrics(file_in):\n",
    "    # your code here\n",
    "\n",
    "\n",
    "    return results"
   ]
  },
  {
   "cell_type": "code",
   "execution_count": null,
   "metadata": {},
   "outputs": [],
   "source": [
    "file=\"D:\\\\Data Science\\\\Intro to Data Science\\\\Coursework\\\\dataset\\\\o01.csv\"\n",
    "calculate_HRV_metrics(file)\n"
   ]
  },
  {
   "cell_type": "code",
   "execution_count": null,
   "metadata": {},
   "outputs": [],
   "source": [
    "def process_HRV_files(file_list_in, file_out):\n",
    "    # your code here\n",
    "    \n",
    "    return  "
   ]
  }
 ],
 "metadata": {
  "kernelspec": {
   "display_name": "base",
   "language": "python",
   "name": "python3"
  },
  "language_info": {
   "codemirror_mode": {
    "name": "ipython",
    "version": 3
   },
   "file_extension": ".py",
   "mimetype": "text/x-python",
   "name": "python",
   "nbconvert_exporter": "python",
   "pygments_lexer": "ipython3",
   "version": "3.12.4"
  }
 },
 "nbformat": 4,
 "nbformat_minor": 2
}
